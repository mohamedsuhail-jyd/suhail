{
 "cells": [
  {
   "cell_type": "markdown",
   "id": "788a8382",
   "metadata": {
    "papermill": {
     "duration": 0.030046,
     "end_time": "2022-03-15T05:15:15.009630",
     "exception": false,
     "start_time": "2022-03-15T05:15:14.979584",
     "status": "completed"
    },
    "tags": []
   },
   "source": [
    "![](https://github.com/Shubham-Trivedi/Sentiment-Analysis-on-IMDB-dataset/blob/main/imdb%20logo1.jpg?raw=true)\n",
    "\n",
    "# Sentiment analysis on Reviews given by viewers on IMDB\n"
   ]
  },
  {
   "cell_type": "markdown",
   "id": "04e09f4e",
   "metadata": {
    "papermill": {
     "duration": 0.028584,
     "end_time": "2022-03-15T05:15:15.070083",
     "exception": false,
     "start_time": "2022-03-15T05:15:15.041499",
     "status": "completed"
    },
    "tags": []
   },
   "source": [
    "\n",
    "# The Dataset and The Problem to Solve\n"
   ]
  },
  {
   "cell_type": "markdown",
   "id": "2143ef61",
   "metadata": {
    "papermill": {
     "duration": 0.028418,
     "end_time": "2022-03-15T05:15:15.129171",
     "exception": false,
     "start_time": "2022-03-15T05:15:15.100753",
     "status": "completed"
    },
    "tags": []
   },
   "source": [
    ">In this notebbok, we’ll use an IMDB dataset of 50k movie reviews available on Kaggle. The dataset contains 2 columns (review and sentiment) that will help us identify whether a review is positive or negative.\n",
    ">\n",
    ">*Problem formulation: Our goal is to find which machine learning model is best suited to predict sentiment (output) given a movie review (input).*"
   ]
  },
  {
   "cell_type": "markdown",
   "id": "79be5739",
   "metadata": {
    "papermill": {
     "duration": 0.02841,
     "end_time": "2022-03-15T05:15:15.186400",
     "exception": false,
     "start_time": "2022-03-15T05:15:15.157990",
     "status": "completed"
    },
    "tags": []
   },
   "source": [
    "\n",
    "# 1. Importing necessary libraries\n"
   ]
  },
  {
   "cell_type": "code",
   "execution_count": 1,
   "id": "db94f69e",
   "metadata": {
    "_cell_guid": "b1076dfc-b9ad-4769-8c92-a6c4dae69d19",
    "_uuid": "8f2839f25d086af736a60e9eeb907d3b93b6e0e5",
    "execution": {
     "iopub.execute_input": "2022-03-15T05:15:15.247956Z",
     "iopub.status.busy": "2022-03-15T05:15:15.246921Z",
     "iopub.status.idle": "2022-03-15T05:15:16.234137Z",
     "shell.execute_reply": "2022-03-15T05:15:16.233395Z",
     "shell.execute_reply.started": "2022-03-15T05:12:57.042837Z"
    },
    "papermill": {
     "duration": 1.018891,
     "end_time": "2022-03-15T05:15:16.234290",
     "exception": false,
     "start_time": "2022-03-15T05:15:15.215399",
     "status": "completed"
    },
    "tags": []
   },
   "outputs": [],
   "source": [
    "import numpy as np \n",
    "import pandas as pd \n",
    "import matplotlib.pyplot as plt\n",
    "import seaborn as sns\n",
    "sns.set_style('darkgrid')"
   ]
  },
  {
   "cell_type": "code",
   "execution_count": 2,
   "id": "a205bc98",
   "metadata": {
    "_kg_hide-input": true,
    "execution": {
     "iopub.execute_input": "2022-03-15T05:15:16.298710Z",
     "iopub.status.busy": "2022-03-15T05:15:16.298048Z",
     "iopub.status.idle": "2022-03-15T05:15:16.306840Z",
     "shell.execute_reply": "2022-03-15T05:15:16.306293Z",
     "shell.execute_reply.started": "2022-03-15T05:12:58.079888Z"
    },
    "papermill": {
     "duration": 0.04289,
     "end_time": "2022-03-15T05:15:16.306976",
     "exception": false,
     "start_time": "2022-03-15T05:15:16.264086",
     "status": "completed"
    },
    "tags": []
   },
   "outputs": [
    {
     "name": "stdout",
     "output_type": "stream",
     "text": [
      "/kaggle/input/imdb-dataset-of-50k-movie-reviews/IMDB Dataset.csv\n"
     ]
    }
   ],
   "source": [
    "import os\n",
    "for dirname, _, filenames in os.walk('/kaggle/input'):\n",
    "    for filename in filenames:\n",
    "        print(os.path.join(dirname, filename))"
   ]
  },
  {
   "cell_type": "markdown",
   "id": "8a1d81dc",
   "metadata": {
    "papermill": {
     "duration": 0.030442,
     "end_time": "2022-03-15T05:15:16.367290",
     "exception": false,
     "start_time": "2022-03-15T05:15:16.336848",
     "status": "completed"
    },
    "tags": []
   },
   "source": [
    "\n",
    "# 2. Preparing the data"
   ]
  },
  {
   "cell_type": "code",
   "execution_count": 3,
   "id": "caa736c0",
   "metadata": {
    "execution": {
     "iopub.execute_input": "2022-03-15T05:15:16.431232Z",
     "iopub.status.busy": "2022-03-15T05:15:16.430608Z",
     "iopub.status.idle": "2022-03-15T05:15:17.819178Z",
     "shell.execute_reply": "2022-03-15T05:15:17.818578Z",
     "shell.execute_reply.started": "2022-03-15T05:12:58.096894Z"
    },
    "papermill": {
     "duration": 1.422331,
     "end_time": "2022-03-15T05:15:17.819318",
     "exception": false,
     "start_time": "2022-03-15T05:15:16.396987",
     "status": "completed"
    },
    "tags": []
   },
   "outputs": [
    {
     "data": {
      "text/html": [
       "<div>\n",
       "<style scoped>\n",
       "    .dataframe tbody tr th:only-of-type {\n",
       "        vertical-align: middle;\n",
       "    }\n",
       "\n",
       "    .dataframe tbody tr th {\n",
       "        vertical-align: top;\n",
       "    }\n",
       "\n",
       "    .dataframe thead th {\n",
       "        text-align: right;\n",
       "    }\n",
       "</style>\n",
       "<table border=\"1\" class=\"dataframe\">\n",
       "  <thead>\n",
       "    <tr style=\"text-align: right;\">\n",
       "      <th></th>\n",
       "      <th>review</th>\n",
       "      <th>sentiment</th>\n",
       "    </tr>\n",
       "  </thead>\n",
       "  <tbody>\n",
       "    <tr>\n",
       "      <th>0</th>\n",
       "      <td>One of the other reviewers has mentioned that ...</td>\n",
       "      <td>positive</td>\n",
       "    </tr>\n",
       "    <tr>\n",
       "      <th>1</th>\n",
       "      <td>A wonderful little production. &lt;br /&gt;&lt;br /&gt;The...</td>\n",
       "      <td>positive</td>\n",
       "    </tr>\n",
       "    <tr>\n",
       "      <th>2</th>\n",
       "      <td>I thought this was a wonderful way to spend ti...</td>\n",
       "      <td>positive</td>\n",
       "    </tr>\n",
       "    <tr>\n",
       "      <th>3</th>\n",
       "      <td>Basically there's a family where a little boy ...</td>\n",
       "      <td>negative</td>\n",
       "    </tr>\n",
       "    <tr>\n",
       "      <th>4</th>\n",
       "      <td>Petter Mattei's \"Love in the Time of Money\" is...</td>\n",
       "      <td>positive</td>\n",
       "    </tr>\n",
       "    <tr>\n",
       "      <th>...</th>\n",
       "      <td>...</td>\n",
       "      <td>...</td>\n",
       "    </tr>\n",
       "    <tr>\n",
       "      <th>49995</th>\n",
       "      <td>I thought this movie did a down right good job...</td>\n",
       "      <td>positive</td>\n",
       "    </tr>\n",
       "    <tr>\n",
       "      <th>49996</th>\n",
       "      <td>Bad plot, bad dialogue, bad acting, idiotic di...</td>\n",
       "      <td>negative</td>\n",
       "    </tr>\n",
       "    <tr>\n",
       "      <th>49997</th>\n",
       "      <td>I am a Catholic taught in parochial elementary...</td>\n",
       "      <td>negative</td>\n",
       "    </tr>\n",
       "    <tr>\n",
       "      <th>49998</th>\n",
       "      <td>I'm going to have to disagree with the previou...</td>\n",
       "      <td>negative</td>\n",
       "    </tr>\n",
       "    <tr>\n",
       "      <th>49999</th>\n",
       "      <td>No one expects the Star Trek movies to be high...</td>\n",
       "      <td>negative</td>\n",
       "    </tr>\n",
       "  </tbody>\n",
       "</table>\n",
       "<p>50000 rows × 2 columns</p>\n",
       "</div>"
      ],
      "text/plain": [
       "                                                  review sentiment\n",
       "0      One of the other reviewers has mentioned that ...  positive\n",
       "1      A wonderful little production. <br /><br />The...  positive\n",
       "2      I thought this was a wonderful way to spend ti...  positive\n",
       "3      Basically there's a family where a little boy ...  negative\n",
       "4      Petter Mattei's \"Love in the Time of Money\" is...  positive\n",
       "...                                                  ...       ...\n",
       "49995  I thought this movie did a down right good job...  positive\n",
       "49996  Bad plot, bad dialogue, bad acting, idiotic di...  negative\n",
       "49997  I am a Catholic taught in parochial elementary...  negative\n",
       "49998  I'm going to have to disagree with the previou...  negative\n",
       "49999  No one expects the Star Trek movies to be high...  negative\n",
       "\n",
       "[50000 rows x 2 columns]"
      ]
     },
     "execution_count": 3,
     "metadata": {},
     "output_type": "execute_result"
    }
   ],
   "source": [
    "df_review = pd.read_csv(\"/kaggle/input/imdb-dataset-of-50k-movie-reviews/IMDB Dataset.csv\")\n",
    "df_review"
   ]
  },
  {
   "cell_type": "markdown",
   "id": "8552b50d",
   "metadata": {
    "papermill": {
     "duration": 0.029786,
     "end_time": "2022-03-15T05:15:17.879054",
     "exception": false,
     "start_time": "2022-03-15T05:15:17.849268",
     "status": "completed"
    },
    "tags": []
   },
   "source": [
    "This dataset contains 50000 rows; however, to train our model faster in the following steps, we’re going to take a smaller sample of 10000 rows. This small sample will contain 9000 positive and 1000 negative reviews to make the data imbalanced (so I can teach you undersampling and oversampling techniques in the next step)"
   ]
  },
  {
   "cell_type": "code",
   "execution_count": 4,
   "id": "eb4920fc",
   "metadata": {
    "execution": {
     "iopub.execute_input": "2022-03-15T05:15:17.950103Z",
     "iopub.status.busy": "2022-03-15T05:15:17.949456Z",
     "iopub.status.idle": "2022-03-15T05:15:17.964839Z",
     "shell.execute_reply": "2022-03-15T05:15:17.964310Z",
     "shell.execute_reply.started": "2022-03-15T05:12:59.561143Z"
    },
    "papermill": {
     "duration": 0.055791,
     "end_time": "2022-03-15T05:15:17.964973",
     "exception": false,
     "start_time": "2022-03-15T05:15:17.909182",
     "status": "completed"
    },
    "tags": []
   },
   "outputs": [],
   "source": [
    "df_positive = df_review[df_review['sentiment']=='positive'][:9000]\n",
    "df_negative = df_review[df_review['sentiment']=='negative'][:1000]\n",
    "\n",
    "df_review_imb = pd.concat([df_positive,df_negative ])"
   ]
  },
  {
   "cell_type": "markdown",
   "id": "d13a5a30",
   "metadata": {
    "papermill": {
     "duration": 0.029572,
     "end_time": "2022-03-15T05:15:18.025347",
     "exception": false,
     "start_time": "2022-03-15T05:15:17.995775",
     "status": "completed"
    },
    "tags": []
   },
   "source": [
    "## Dealing with Imbalanced Classes\n",
    "\n",
    "In most cases, you’ll have a large amount of data for one class, and much fewer observations for other classes. This is known as imbalanced data because the number of observations per class is not equally distributed.\n",
    "\n",
    "Let’s take a look at how our df_review_imb dataset is distributed."
   ]
  },
  {
   "cell_type": "code",
   "execution_count": 5,
   "id": "ab26e2fc",
   "metadata": {
    "execution": {
     "iopub.execute_input": "2022-03-15T05:15:18.095023Z",
     "iopub.status.busy": "2022-03-15T05:15:18.088822Z",
     "iopub.status.idle": "2022-03-15T05:15:18.306080Z",
     "shell.execute_reply": "2022-03-15T05:15:18.306591Z",
     "shell.execute_reply.started": "2022-03-15T05:12:59.597251Z"
    },
    "papermill": {
     "duration": 0.250269,
     "end_time": "2022-03-15T05:15:18.306754",
     "exception": false,
     "start_time": "2022-03-15T05:15:18.056485",
     "status": "completed"
    },
    "tags": []
   },
   "outputs": [
    {
     "data": {
      "image/png": "[encoded data removed]",
      "text/plain": [
       "<Figure size 576x288 with 1 Axes>"
      ]
     },
     "metadata": {},
     "output_type": "display_data"
    }
   ],
   "source": [
    "colors = sns.color_palette('deep')\n",
    "\n",
    "plt.figure(figsize=(8,4), tight_layout=True)\n",
    "plt.bar(x=['Positive', 'Negative'],\n",
    "        height=df_review_imb.value_counts(['sentiment']),\n",
    "        color=colors[:2])\n",
    "plt.title('Sentiment')\n",
    "plt.savefig('sentiment.png')\n",
    "plt.show()"
   ]
  },
  {
   "cell_type": "markdown",
   "id": "2495ecba",
   "metadata": {
    "papermill": {
     "duration": 0.030132,
     "end_time": "2022-03-15T05:15:18.367749",
     "exception": false,
     "start_time": "2022-03-15T05:15:18.337617",
     "status": "completed"
    },
    "tags": []
   },
   "source": [
    "To resample our data we use the imblearn library. You can either undersample positive reviews or oversample negative reviews (you need to choose based on the data you’re working with). In this case, we’ll use the RandomUnderSampler"
   ]
  },
  {
   "cell_type": "code",
   "execution_count": 6,
   "id": "6189f3a8",
   "metadata": {
    "execution": {
     "iopub.execute_input": "2022-03-15T05:15:18.433563Z",
     "iopub.status.busy": "2022-03-15T05:15:18.432913Z",
     "iopub.status.idle": "2022-03-15T05:15:18.992477Z",
     "shell.execute_reply": "2022-03-15T05:15:18.991966Z",
     "shell.execute_reply.started": "2022-03-15T05:12:59.869383Z"
    },
    "papermill": {
     "duration": 0.594649,
     "end_time": "2022-03-15T05:15:18.992609",
     "exception": false,
     "start_time": "2022-03-15T05:15:18.397960",
     "status": "completed"
    },
    "tags": []
   },
   "outputs": [
    {
     "data": {
      "text/html": [
       "<div>\n",
       "<style scoped>\n",
       "    .dataframe tbody tr th:only-of-type {\n",
       "        vertical-align: middle;\n",
       "    }\n",
       "\n",
       "    .dataframe tbody tr th {\n",
       "        vertical-align: top;\n",
       "    }\n",
       "\n",
       "    .dataframe thead th {\n",
       "        text-align: right;\n",
       "    }\n",
       "</style>\n",
       "<table border=\"1\" class=\"dataframe\">\n",
       "  <thead>\n",
       "    <tr style=\"text-align: right;\">\n",
       "      <th></th>\n",
       "      <th>review</th>\n",
       "      <th>sentiment</th>\n",
       "    </tr>\n",
       "  </thead>\n",
       "  <tbody>\n",
       "    <tr>\n",
       "      <th>0</th>\n",
       "      <td>Basically there's a family where a little boy ...</td>\n",
       "      <td>negative</td>\n",
       "    </tr>\n",
       "    <tr>\n",
       "      <th>1</th>\n",
       "      <td>This show was an amazing, fresh &amp; innovative i...</td>\n",
       "      <td>negative</td>\n",
       "    </tr>\n",
       "    <tr>\n",
       "      <th>2</th>\n",
       "      <td>Encouraged by the positive comments about this...</td>\n",
       "      <td>negative</td>\n",
       "    </tr>\n",
       "    <tr>\n",
       "      <th>3</th>\n",
       "      <td>Phil the Alien is one of those quirky films wh...</td>\n",
       "      <td>negative</td>\n",
       "    </tr>\n",
       "    <tr>\n",
       "      <th>4</th>\n",
       "      <td>I saw this movie when I was about 12 when it c...</td>\n",
       "      <td>negative</td>\n",
       "    </tr>\n",
       "    <tr>\n",
       "      <th>...</th>\n",
       "      <td>...</td>\n",
       "      <td>...</td>\n",
       "    </tr>\n",
       "    <tr>\n",
       "      <th>1995</th>\n",
       "      <td>Knute Rockne led an extraordinary life and his...</td>\n",
       "      <td>positive</td>\n",
       "    </tr>\n",
       "    <tr>\n",
       "      <th>1996</th>\n",
       "      <td>At the height of the 'Celebrity Big Brother' r...</td>\n",
       "      <td>positive</td>\n",
       "    </tr>\n",
       "    <tr>\n",
       "      <th>1997</th>\n",
       "      <td>This is another of Robert Altman's underrated ...</td>\n",
       "      <td>positive</td>\n",
       "    </tr>\n",
       "    <tr>\n",
       "      <th>1998</th>\n",
       "      <td>This movie won a special award at Cannes for i...</td>\n",
       "      <td>positive</td>\n",
       "    </tr>\n",
       "    <tr>\n",
       "      <th>1999</th>\n",
       "      <td>You'd be forgiven to think a Finnish director ...</td>\n",
       "      <td>positive</td>\n",
       "    </tr>\n",
       "  </tbody>\n",
       "</table>\n",
       "<p>2000 rows × 2 columns</p>\n",
       "</div>"
      ],
      "text/plain": [
       "                                                 review sentiment\n",
       "0     Basically there's a family where a little boy ...  negative\n",
       "1     This show was an amazing, fresh & innovative i...  negative\n",
       "2     Encouraged by the positive comments about this...  negative\n",
       "3     Phil the Alien is one of those quirky films wh...  negative\n",
       "4     I saw this movie when I was about 12 when it c...  negative\n",
       "...                                                 ...       ...\n",
       "1995  Knute Rockne led an extraordinary life and his...  positive\n",
       "1996  At the height of the 'Celebrity Big Brother' r...  positive\n",
       "1997  This is another of Robert Altman's underrated ...  positive\n",
       "1998  This movie won a special award at Cannes for i...  positive\n",
       "1999  You'd be forgiven to think a Finnish director ...  positive\n",
       "\n",
       "[2000 rows x 2 columns]"
      ]
     },
     "execution_count": 6,
     "metadata": {},
     "output_type": "execute_result"
    }
   ],
   "source": [
    "from imblearn.under_sampling import RandomUnderSampler\n",
    "rus = RandomUnderSampler(random_state= 0)\n",
    "df_review_bal,df_review_bal['sentiment']=rus.fit_resample(df_review_imb[['review']],df_review_imb['sentiment'])\n",
    "\n",
    "\n",
    "df_review_bal"
   ]
  },
  {
   "cell_type": "markdown",
   "id": "b43f23ee",
   "metadata": {
    "papermill": {
     "duration": 0.030799,
     "end_time": "2022-03-15T05:15:19.054687",
     "exception": false,
     "start_time": "2022-03-15T05:15:19.023888",
     "status": "completed"
    },
    "tags": []
   },
   "source": [
    "We can compare the imbalanced and balanced dataset with the following code."
   ]
  },
  {
   "cell_type": "code",
   "execution_count": 7,
   "id": "ba52f913",
   "metadata": {
    "execution": {
     "iopub.execute_input": "2022-03-15T05:15:19.122162Z",
     "iopub.status.busy": "2022-03-15T05:15:19.121592Z",
     "iopub.status.idle": "2022-03-15T05:15:19.128592Z",
     "shell.execute_reply": "2022-03-15T05:15:19.129169Z",
     "shell.execute_reply.started": "2022-03-15T05:13:00.437822Z"
    },
    "papermill": {
     "duration": 0.043514,
     "end_time": "2022-03-15T05:15:19.129336",
     "exception": false,
     "start_time": "2022-03-15T05:15:19.085822",
     "status": "completed"
    },
    "tags": []
   },
   "outputs": [
    {
     "name": "stdout",
     "output_type": "stream",
     "text": [
      "sentiment\n",
      "positive    9000\n",
      "negative    1000\n",
      "dtype: int64\n",
      "sentiment\n",
      "negative    1000\n",
      "positive    1000\n",
      "dtype: int64\n"
     ]
    }
   ],
   "source": [
    "print(df_review_imb.value_counts('sentiment'))\n",
    "print(df_review_bal.value_counts('sentiment'))"
   ]
  },
  {
   "cell_type": "markdown",
   "id": "88184a48",
   "metadata": {
    "papermill": {
     "duration": 0.031289,
     "end_time": "2022-03-15T05:15:19.191739",
     "exception": false,
     "start_time": "2022-03-15T05:15:19.160450",
     "status": "completed"
    },
    "tags": []
   },
   "source": [
    "\n",
    "## Splitting data into train and test set\n"
   ]
  },
  {
   "cell_type": "code",
   "execution_count": 8,
   "id": "e6c0f472",
   "metadata": {
    "execution": {
     "iopub.execute_input": "2022-03-15T05:15:19.259250Z",
     "iopub.status.busy": "2022-03-15T05:15:19.258255Z",
     "iopub.status.idle": "2022-03-15T05:15:19.263768Z",
     "shell.execute_reply": "2022-03-15T05:15:19.264239Z",
     "shell.execute_reply.started": "2022-03-15T05:13:00.448344Z"
    },
    "papermill": {
     "duration": 0.040695,
     "end_time": "2022-03-15T05:15:19.264415",
     "exception": false,
     "start_time": "2022-03-15T05:15:19.223720",
     "status": "completed"
    },
    "tags": []
   },
   "outputs": [],
   "source": [
    "from sklearn.model_selection import train_test_split\n",
    "\n",
    "train,test = train_test_split(df_review_bal,test_size =0.33,random_state=42)"
   ]
  },
  {
   "cell_type": "code",
   "execution_count": 9,
   "id": "44ca4804",
   "metadata": {
    "execution": {
     "iopub.execute_input": "2022-03-15T05:15:19.330810Z",
     "iopub.status.busy": "2022-03-15T05:15:19.329927Z",
     "iopub.status.idle": "2022-03-15T05:15:19.334185Z",
     "shell.execute_reply": "2022-03-15T05:15:19.334621Z",
     "shell.execute_reply.started": "2022-03-15T05:13:00.457989Z"
    },
    "papermill": {
     "duration": 0.039134,
     "end_time": "2022-03-15T05:15:19.334778",
     "exception": false,
     "start_time": "2022-03-15T05:15:19.295644",
     "status": "completed"
    },
    "tags": []
   },
   "outputs": [],
   "source": [
    "train_x, train_y = train['review'], train['sentiment']\n",
    "test_x, test_y = test['review'], test['sentiment']"
   ]
  },
  {
   "cell_type": "code",
   "execution_count": 10,
   "id": "3c6a4c66",
   "metadata": {
    "execution": {
     "iopub.execute_input": "2022-03-15T05:15:19.400656Z",
     "iopub.status.busy": "2022-03-15T05:15:19.399742Z",
     "iopub.status.idle": "2022-03-15T05:15:19.408086Z",
     "shell.execute_reply": "2022-03-15T05:15:19.408526Z",
     "shell.execute_reply.started": "2022-03-15T05:13:00.469297Z"
    },
    "papermill": {
     "duration": 0.043005,
     "end_time": "2022-03-15T05:15:19.408686",
     "exception": false,
     "start_time": "2022-03-15T05:15:19.365681",
     "status": "completed"
    },
    "tags": []
   },
   "outputs": [
    {
     "data": {
      "text/plain": [
       "negative    675\n",
       "positive    665\n",
       "Name: sentiment, dtype: int64"
      ]
     },
     "execution_count": 10,
     "metadata": {},
     "output_type": "execute_result"
    }
   ],
   "source": [
    "train_y.value_counts()"
   ]
  },
  {
   "cell_type": "markdown",
   "id": "17ffb83c",
   "metadata": {
    "papermill": {
     "duration": 0.031909,
     "end_time": "2022-03-15T05:15:19.471693",
     "exception": false,
     "start_time": "2022-03-15T05:15:19.439784",
     "status": "completed"
    },
    "tags": []
   },
   "source": [
    "\n",
    "# 3.Text Representation (Bag of words)\n"
   ]
  },
  {
   "cell_type": "markdown",
   "id": "b549637e",
   "metadata": {
    "papermill": {
     "duration": 0.031084,
     "end_time": "2022-03-15T05:15:19.534017",
     "exception": false,
     "start_time": "2022-03-15T05:15:19.502933",
     "status": "completed"
    },
    "tags": []
   },
   "source": [
    "Classifiers and learning algorithms expect numerical feature vectors rather than raw text documents. This is why we need to turn our movie review text into numerical vectors.\n",
    "\n",
    "we’ll use bag of words (BOW) since we care about the frequency of the words in text reviews; however, the order of words is irrelevant. Two common ways to represent bag of words are CountVectorizer and Term Frequency, Inverse Document Frequency (TF-IDF)"
   ]
  },
  {
   "cell_type": "markdown",
   "id": "34bc488b",
   "metadata": {
    "execution": {
     "iopub.execute_input": "2022-03-14T02:31:48.605113Z",
     "iopub.status.busy": "2022-03-14T02:31:48.604278Z",
     "iopub.status.idle": "2022-03-14T02:31:48.612924Z",
     "shell.execute_reply": "2022-03-14T02:31:48.611661Z",
     "shell.execute_reply.started": "2022-03-14T02:31:48.605055Z"
    },
    "papermill": {
     "duration": 0.030941,
     "end_time": "2022-03-15T05:15:19.597449",
     "exception": false,
     "start_time": "2022-03-15T05:15:19.566508",
     "status": "completed"
    },
    "tags": []
   },
   "source": [
    "we want to identify unique/representative words for positive reviews and negative reviews, so we’ll choose the TF-IDF. To turn text data into numerical vectors with TF-IDF"
   ]
  },
  {
   "cell_type": "code",
   "execution_count": 11,
   "id": "a6b4b597",
   "metadata": {
    "execution": {
     "iopub.execute_input": "2022-03-15T05:15:19.663843Z",
     "iopub.status.busy": "2022-03-15T05:15:19.662933Z",
     "iopub.status.idle": "2022-03-15T05:15:20.019802Z",
     "shell.execute_reply": "2022-03-15T05:15:20.020330Z",
     "shell.execute_reply.started": "2022-03-15T05:13:00.486464Z"
    },
    "papermill": {
     "duration": 0.391793,
     "end_time": "2022-03-15T05:15:20.020575",
     "exception": false,
     "start_time": "2022-03-15T05:15:19.628782",
     "status": "completed"
    },
    "tags": []
   },
   "outputs": [],
   "source": [
    "from sklearn.feature_extraction.text import TfidfVectorizer\n",
    "\n",
    "tfidf = TfidfVectorizer(stop_words='english')\n",
    "train_x_vector = tfidf.fit_transform(train_x)\n",
    "# also fit the test_x_vector\n",
    "test_x_vector = tfidf.transform(test_x)\n"
   ]
  },
  {
   "cell_type": "markdown",
   "id": "f2c8221d",
   "metadata": {
    "papermill": {
     "duration": 0.033204,
     "end_time": "2022-03-15T05:15:20.085433",
     "exception": false,
     "start_time": "2022-03-15T05:15:20.052229",
     "status": "completed"
    },
    "tags": []
   },
   "source": [
    "Finally, let's also transform the test_x_vector, so we can test the accuracy of the model later "
   ]
  },
  {
   "cell_type": "code",
   "execution_count": 12,
   "id": "ab8fb7b2",
   "metadata": {
    "execution": {
     "iopub.execute_input": "2022-03-15T05:15:20.155177Z",
     "iopub.status.busy": "2022-03-15T05:15:20.154316Z",
     "iopub.status.idle": "2022-03-15T05:15:20.808982Z",
     "shell.execute_reply": "2022-03-15T05:15:20.809433Z",
     "shell.execute_reply.started": "2022-03-15T05:13:01.009681Z"
    },
    "papermill": {
     "duration": 0.691442,
     "end_time": "2022-03-15T05:15:20.809614",
     "exception": false,
     "start_time": "2022-03-15T05:15:20.118172",
     "status": "completed"
    },
    "tags": []
   },
   "outputs": [
    {
     "name": "stderr",
     "output_type": "stream",
     "text": [
      "/opt/conda/lib/python3.7/site-packages/sklearn/utils/deprecation.py:87: FutureWarning: Function get_feature_names is deprecated; get_feature_names is deprecated in 1.0 and will be removed in 1.2. Please use get_feature_names_out instead.\n",
      "  warnings.warn(msg, category=FutureWarning)\n"
     ]
    },
    {
     "data": {
      "text/html": [
       "<div>\n",
       "<style scoped>\n",
       "    .dataframe tbody tr th:only-of-type {\n",
       "        vertical-align: middle;\n",
       "    }\n",
       "\n",
       "    .dataframe tbody tr th {\n",
       "        vertical-align: top;\n",
       "    }\n",
       "\n",
       "    .dataframe thead th {\n",
       "        text-align: right;\n",
       "    }\n",
       "</style>\n",
       "<table border=\"1\" class=\"dataframe\">\n",
       "  <thead>\n",
       "    <tr style=\"text-align: right;\">\n",
       "      <th></th>\n",
       "      <th>00</th>\n",
       "      <th>000</th>\n",
       "      <th>007</th>\n",
       "      <th>01pm</th>\n",
       "      <th>02</th>\n",
       "      <th>04</th>\n",
       "      <th>08</th>\n",
       "      <th>10</th>\n",
       "      <th>100</th>\n",
       "      <th>1000</th>\n",
       "      <th>...</th>\n",
       "      <th>zooming</th>\n",
       "      <th>zooms</th>\n",
       "      <th>zues</th>\n",
       "      <th>zzzzzzzzzzzzzzzzzz</th>\n",
       "      <th>æon</th>\n",
       "      <th>élan</th>\n",
       "      <th>émigré</th>\n",
       "      <th>ísnt</th>\n",
       "      <th>ïn</th>\n",
       "      <th>ünfaithful</th>\n",
       "    </tr>\n",
       "  </thead>\n",
       "  <tbody>\n",
       "    <tr>\n",
       "      <th>81</th>\n",
       "      <td>0.0</td>\n",
       "      <td>0.0</td>\n",
       "      <td>0.0</td>\n",
       "      <td>0.0</td>\n",
       "      <td>0.0</td>\n",
       "      <td>0.0</td>\n",
       "      <td>0.0</td>\n",
       "      <td>0.000000</td>\n",
       "      <td>0.0</td>\n",
       "      <td>0.0</td>\n",
       "      <td>...</td>\n",
       "      <td>0.0</td>\n",
       "      <td>0.0</td>\n",
       "      <td>0.0</td>\n",
       "      <td>0.0</td>\n",
       "      <td>0.0</td>\n",
       "      <td>0.0</td>\n",
       "      <td>0.0</td>\n",
       "      <td>0.0</td>\n",
       "      <td>0.0</td>\n",
       "      <td>0.0</td>\n",
       "    </tr>\n",
       "    <tr>\n",
       "      <th>915</th>\n",
       "      <td>0.0</td>\n",
       "      <td>0.0</td>\n",
       "      <td>0.0</td>\n",
       "      <td>0.0</td>\n",
       "      <td>0.0</td>\n",
       "      <td>0.0</td>\n",
       "      <td>0.0</td>\n",
       "      <td>0.000000</td>\n",
       "      <td>0.0</td>\n",
       "      <td>0.0</td>\n",
       "      <td>...</td>\n",
       "      <td>0.0</td>\n",
       "      <td>0.0</td>\n",
       "      <td>0.0</td>\n",
       "      <td>0.0</td>\n",
       "      <td>0.0</td>\n",
       "      <td>0.0</td>\n",
       "      <td>0.0</td>\n",
       "      <td>0.0</td>\n",
       "      <td>0.0</td>\n",
       "      <td>0.0</td>\n",
       "    </tr>\n",
       "    <tr>\n",
       "      <th>1018</th>\n",
       "      <td>0.0</td>\n",
       "      <td>0.0</td>\n",
       "      <td>0.0</td>\n",
       "      <td>0.0</td>\n",
       "      <td>0.0</td>\n",
       "      <td>0.0</td>\n",
       "      <td>0.0</td>\n",
       "      <td>0.000000</td>\n",
       "      <td>0.0</td>\n",
       "      <td>0.0</td>\n",
       "      <td>...</td>\n",
       "      <td>0.0</td>\n",
       "      <td>0.0</td>\n",
       "      <td>0.0</td>\n",
       "      <td>0.0</td>\n",
       "      <td>0.0</td>\n",
       "      <td>0.0</td>\n",
       "      <td>0.0</td>\n",
       "      <td>0.0</td>\n",
       "      <td>0.0</td>\n",
       "      <td>0.0</td>\n",
       "    </tr>\n",
       "    <tr>\n",
       "      <th>380</th>\n",
       "      <td>0.0</td>\n",
       "      <td>0.0</td>\n",
       "      <td>0.0</td>\n",
       "      <td>0.0</td>\n",
       "      <td>0.0</td>\n",
       "      <td>0.0</td>\n",
       "      <td>0.0</td>\n",
       "      <td>0.042791</td>\n",
       "      <td>0.0</td>\n",
       "      <td>0.0</td>\n",
       "      <td>...</td>\n",
       "      <td>0.0</td>\n",
       "      <td>0.0</td>\n",
       "      <td>0.0</td>\n",
       "      <td>0.0</td>\n",
       "      <td>0.0</td>\n",
       "      <td>0.0</td>\n",
       "      <td>0.0</td>\n",
       "      <td>0.0</td>\n",
       "      <td>0.0</td>\n",
       "      <td>0.0</td>\n",
       "    </tr>\n",
       "    <tr>\n",
       "      <th>1029</th>\n",
       "      <td>0.0</td>\n",
       "      <td>0.0</td>\n",
       "      <td>0.0</td>\n",
       "      <td>0.0</td>\n",
       "      <td>0.0</td>\n",
       "      <td>0.0</td>\n",
       "      <td>0.0</td>\n",
       "      <td>0.000000</td>\n",
       "      <td>0.0</td>\n",
       "      <td>0.0</td>\n",
       "      <td>...</td>\n",
       "      <td>0.0</td>\n",
       "      <td>0.0</td>\n",
       "      <td>0.0</td>\n",
       "      <td>0.0</td>\n",
       "      <td>0.0</td>\n",
       "      <td>0.0</td>\n",
       "      <td>0.0</td>\n",
       "      <td>0.0</td>\n",
       "      <td>0.0</td>\n",
       "      <td>0.0</td>\n",
       "    </tr>\n",
       "    <tr>\n",
       "      <th>...</th>\n",
       "      <td>...</td>\n",
       "      <td>...</td>\n",
       "      <td>...</td>\n",
       "      <td>...</td>\n",
       "      <td>...</td>\n",
       "      <td>...</td>\n",
       "      <td>...</td>\n",
       "      <td>...</td>\n",
       "      <td>...</td>\n",
       "      <td>...</td>\n",
       "      <td>...</td>\n",
       "      <td>...</td>\n",
       "      <td>...</td>\n",
       "      <td>...</td>\n",
       "      <td>...</td>\n",
       "      <td>...</td>\n",
       "      <td>...</td>\n",
       "      <td>...</td>\n",
       "      <td>...</td>\n",
       "      <td>...</td>\n",
       "      <td>...</td>\n",
       "    </tr>\n",
       "    <tr>\n",
       "      <th>1130</th>\n",
       "      <td>0.0</td>\n",
       "      <td>0.0</td>\n",
       "      <td>0.0</td>\n",
       "      <td>0.0</td>\n",
       "      <td>0.0</td>\n",
       "      <td>0.0</td>\n",
       "      <td>0.0</td>\n",
       "      <td>0.000000</td>\n",
       "      <td>0.0</td>\n",
       "      <td>0.0</td>\n",
       "      <td>...</td>\n",
       "      <td>0.0</td>\n",
       "      <td>0.0</td>\n",
       "      <td>0.0</td>\n",
       "      <td>0.0</td>\n",
       "      <td>0.0</td>\n",
       "      <td>0.0</td>\n",
       "      <td>0.0</td>\n",
       "      <td>0.0</td>\n",
       "      <td>0.0</td>\n",
       "      <td>0.0</td>\n",
       "    </tr>\n",
       "    <tr>\n",
       "      <th>1294</th>\n",
       "      <td>0.0</td>\n",
       "      <td>0.0</td>\n",
       "      <td>0.0</td>\n",
       "      <td>0.0</td>\n",
       "      <td>0.0</td>\n",
       "      <td>0.0</td>\n",
       "      <td>0.0</td>\n",
       "      <td>0.000000</td>\n",
       "      <td>0.0</td>\n",
       "      <td>0.0</td>\n",
       "      <td>...</td>\n",
       "      <td>0.0</td>\n",
       "      <td>0.0</td>\n",
       "      <td>0.0</td>\n",
       "      <td>0.0</td>\n",
       "      <td>0.0</td>\n",
       "      <td>0.0</td>\n",
       "      <td>0.0</td>\n",
       "      <td>0.0</td>\n",
       "      <td>0.0</td>\n",
       "      <td>0.0</td>\n",
       "    </tr>\n",
       "    <tr>\n",
       "      <th>860</th>\n",
       "      <td>0.0</td>\n",
       "      <td>0.0</td>\n",
       "      <td>0.0</td>\n",
       "      <td>0.0</td>\n",
       "      <td>0.0</td>\n",
       "      <td>0.0</td>\n",
       "      <td>0.0</td>\n",
       "      <td>0.000000</td>\n",
       "      <td>0.0</td>\n",
       "      <td>0.0</td>\n",
       "      <td>...</td>\n",
       "      <td>0.0</td>\n",
       "      <td>0.0</td>\n",
       "      <td>0.0</td>\n",
       "      <td>0.0</td>\n",
       "      <td>0.0</td>\n",
       "      <td>0.0</td>\n",
       "      <td>0.0</td>\n",
       "      <td>0.0</td>\n",
       "      <td>0.0</td>\n",
       "      <td>0.0</td>\n",
       "    </tr>\n",
       "    <tr>\n",
       "      <th>1459</th>\n",
       "      <td>0.0</td>\n",
       "      <td>0.0</td>\n",
       "      <td>0.0</td>\n",
       "      <td>0.0</td>\n",
       "      <td>0.0</td>\n",
       "      <td>0.0</td>\n",
       "      <td>0.0</td>\n",
       "      <td>0.000000</td>\n",
       "      <td>0.0</td>\n",
       "      <td>0.0</td>\n",
       "      <td>...</td>\n",
       "      <td>0.0</td>\n",
       "      <td>0.0</td>\n",
       "      <td>0.0</td>\n",
       "      <td>0.0</td>\n",
       "      <td>0.0</td>\n",
       "      <td>0.0</td>\n",
       "      <td>0.0</td>\n",
       "      <td>0.0</td>\n",
       "      <td>0.0</td>\n",
       "      <td>0.0</td>\n",
       "    </tr>\n",
       "    <tr>\n",
       "      <th>1126</th>\n",
       "      <td>0.0</td>\n",
       "      <td>0.0</td>\n",
       "      <td>0.0</td>\n",
       "      <td>0.0</td>\n",
       "      <td>0.0</td>\n",
       "      <td>0.0</td>\n",
       "      <td>0.0</td>\n",
       "      <td>0.000000</td>\n",
       "      <td>0.0</td>\n",
       "      <td>0.0</td>\n",
       "      <td>...</td>\n",
       "      <td>0.0</td>\n",
       "      <td>0.0</td>\n",
       "      <td>0.0</td>\n",
       "      <td>0.0</td>\n",
       "      <td>0.0</td>\n",
       "      <td>0.0</td>\n",
       "      <td>0.0</td>\n",
       "      <td>0.0</td>\n",
       "      <td>0.0</td>\n",
       "      <td>0.0</td>\n",
       "    </tr>\n",
       "  </tbody>\n",
       "</table>\n",
       "<p>1340 rows × 20625 columns</p>\n",
       "</div>"
      ],
      "text/plain": [
       "       00  000  007  01pm   02   04   08        10  100  1000  ...  zooming  \\\n",
       "81    0.0  0.0  0.0   0.0  0.0  0.0  0.0  0.000000  0.0   0.0  ...      0.0   \n",
       "915   0.0  0.0  0.0   0.0  0.0  0.0  0.0  0.000000  0.0   0.0  ...      0.0   \n",
       "1018  0.0  0.0  0.0   0.0  0.0  0.0  0.0  0.000000  0.0   0.0  ...      0.0   \n",
       "380   0.0  0.0  0.0   0.0  0.0  0.0  0.0  0.042791  0.0   0.0  ...      0.0   \n",
       "1029  0.0  0.0  0.0   0.0  0.0  0.0  0.0  0.000000  0.0   0.0  ...      0.0   \n",
       "...   ...  ...  ...   ...  ...  ...  ...       ...  ...   ...  ...      ...   \n",
       "1130  0.0  0.0  0.0   0.0  0.0  0.0  0.0  0.000000  0.0   0.0  ...      0.0   \n",
       "1294  0.0  0.0  0.0   0.0  0.0  0.0  0.0  0.000000  0.0   0.0  ...      0.0   \n",
       "860   0.0  0.0  0.0   0.0  0.0  0.0  0.0  0.000000  0.0   0.0  ...      0.0   \n",
       "1459  0.0  0.0  0.0   0.0  0.0  0.0  0.0  0.000000  0.0   0.0  ...      0.0   \n",
       "1126  0.0  0.0  0.0   0.0  0.0  0.0  0.0  0.000000  0.0   0.0  ...      0.0   \n",
       "\n",
       "      zooms  zues  zzzzzzzzzzzzzzzzzz  æon  élan  émigré  ísnt   ïn  \\\n",
       "81      0.0   0.0                 0.0  0.0   0.0     0.0   0.0  0.0   \n",
       "915     0.0   0.0                 0.0  0.0   0.0     0.0   0.0  0.0   \n",
       "1018    0.0   0.0                 0.0  0.0   0.0     0.0   0.0  0.0   \n",
       "380     0.0   0.0                 0.0  0.0   0.0     0.0   0.0  0.0   \n",
       "1029    0.0   0.0                 0.0  0.0   0.0     0.0   0.0  0.0   \n",
       "...     ...   ...                 ...  ...   ...     ...   ...  ...   \n",
       "1130    0.0   0.0                 0.0  0.0   0.0     0.0   0.0  0.0   \n",
       "1294    0.0   0.0                 0.0  0.0   0.0     0.0   0.0  0.0   \n",
       "860     0.0   0.0                 0.0  0.0   0.0     0.0   0.0  0.0   \n",
       "1459    0.0   0.0                 0.0  0.0   0.0     0.0   0.0  0.0   \n",
       "1126    0.0   0.0                 0.0  0.0   0.0     0.0   0.0  0.0   \n",
       "\n",
       "      ünfaithful  \n",
       "81           0.0  \n",
       "915          0.0  \n",
       "1018         0.0  \n",
       "380          0.0  \n",
       "1029         0.0  \n",
       "...          ...  \n",
       "1130         0.0  \n",
       "1294         0.0  \n",
       "860          0.0  \n",
       "1459         0.0  \n",
       "1126         0.0  \n",
       "\n",
       "[1340 rows x 20625 columns]"
      ]
     },
     "execution_count": 12,
     "metadata": {},
     "output_type": "execute_result"
    }
   ],
   "source": [
    "pd.DataFrame.sparse.from_spmatrix(train_x_vector,\n",
    "                                  index=train_x.index,\n",
    "                                  columns=tfidf.get_feature_names())"
   ]
  },
  {
   "cell_type": "markdown",
   "id": "11352f52",
   "metadata": {
    "papermill": {
     "duration": 0.032306,
     "end_time": "2022-03-15T05:15:20.874383",
     "exception": false,
     "start_time": "2022-03-15T05:15:20.842077",
     "status": "completed"
    },
    "tags": []
   },
   "source": [
    "# 4.Model Selection\n",
    "\n",
    "In our example, our input (review) and output (sentiment) are clearly identified, so we can say we have labeled input and output data; therefore, we’re dealing with supervised learning.\n",
    "\n",
    "We will benchmark the four classification models.\n"
   ]
  },
  {
   "cell_type": "markdown",
   "id": "438e32b4",
   "metadata": {
    "papermill": {
     "duration": 0.032352,
     "end_time": "2022-03-15T05:15:20.939562",
     "exception": false,
     "start_time": "2022-03-15T05:15:20.907210",
     "status": "completed"
    },
    "tags": []
   },
   "source": [
    "\n",
    "##  Support Vector Machine(SVM)\n"
   ]
  },
  {
   "cell_type": "code",
   "execution_count": 13,
   "id": "03f3a011",
   "metadata": {
    "execution": {
     "iopub.execute_input": "2022-03-15T05:15:21.009899Z",
     "iopub.status.busy": "2022-03-15T05:15:21.009242Z",
     "iopub.status.idle": "2022-03-15T05:15:22.726201Z",
     "shell.execute_reply": "2022-03-15T05:15:22.725703Z",
     "shell.execute_reply.started": "2022-03-15T05:13:01.900611Z"
    },
    "papermill": {
     "duration": 1.754244,
     "end_time": "2022-03-15T05:15:22.726342",
     "exception": false,
     "start_time": "2022-03-15T05:15:20.972098",
     "status": "completed"
    },
    "tags": []
   },
   "outputs": [
    {
     "data": {
      "text/plain": [
       "SVC(kernel='linear')"
      ]
     },
     "execution_count": 13,
     "metadata": {},
     "output_type": "execute_result"
    }
   ],
   "source": [
    "from sklearn.svm import SVC\n",
    "svc = SVC(kernel='linear')\n",
    "svc.fit(train_x_vector, train_y)"
   ]
  },
  {
   "cell_type": "code",
   "execution_count": 14,
   "id": "8e6fc57c",
   "metadata": {
    "execution": {
     "iopub.execute_input": "2022-03-15T05:15:22.799304Z",
     "iopub.status.busy": "2022-03-15T05:15:22.798398Z",
     "iopub.status.idle": "2022-03-15T05:15:22.808069Z",
     "shell.execute_reply": "2022-03-15T05:15:22.808514Z",
     "shell.execute_reply.started": "2022-03-15T05:13:03.620073Z"
    },
    "papermill": {
     "duration": 0.04879,
     "end_time": "2022-03-15T05:15:22.808679",
     "exception": false,
     "start_time": "2022-03-15T05:15:22.759889",
     "status": "completed"
    },
    "tags": []
   },
   "outputs": [
    {
     "name": "stdout",
     "output_type": "stream",
     "text": [
      "['positive']\n",
      "['positive']\n",
      "['negative']\n"
     ]
    }
   ],
   "source": [
    "print(svc.predict(tfidf.transform(['A good movie'])))\n",
    "print(svc.predict(tfidf.transform(['An excellent movie'])))\n",
    "print(svc.predict(tfidf.transform(['I did not like this movie at all I gave this movie away'])))"
   ]
  },
  {
   "cell_type": "markdown",
   "id": "ebcf93fc",
   "metadata": {
    "papermill": {
     "duration": 0.032846,
     "end_time": "2022-03-15T05:15:22.874553",
     "exception": false,
     "start_time": "2022-03-15T05:15:22.841707",
     "status": "completed"
    },
    "tags": []
   },
   "source": [
    "\n",
    "## Decision Tree\n"
   ]
  },
  {
   "cell_type": "code",
   "execution_count": 15,
   "id": "34212a78",
   "metadata": {
    "execution": {
     "iopub.execute_input": "2022-03-15T05:15:22.946077Z",
     "iopub.status.busy": "2022-03-15T05:15:22.945456Z",
     "iopub.status.idle": "2022-03-15T05:15:23.349345Z",
     "shell.execute_reply": "2022-03-15T05:15:23.348722Z",
     "shell.execute_reply.started": "2022-03-15T05:13:03.635948Z"
    },
    "papermill": {
     "duration": 0.441794,
     "end_time": "2022-03-15T05:15:23.349529",
     "exception": false,
     "start_time": "2022-03-15T05:15:22.907735",
     "status": "completed"
    },
    "tags": []
   },
   "outputs": [
    {
     "data": {
      "text/plain": [
       "DecisionTreeClassifier()"
      ]
     },
     "execution_count": 15,
     "metadata": {},
     "output_type": "execute_result"
    }
   ],
   "source": [
    "from sklearn.tree import DecisionTreeClassifier\n",
    "\n",
    "dec_tree = DecisionTreeClassifier()\n",
    "dec_tree.fit(train_x_vector, train_y)"
   ]
  },
  {
   "cell_type": "markdown",
   "id": "a6d2a975",
   "metadata": {
    "papermill": {
     "duration": 0.034775,
     "end_time": "2022-03-15T05:15:23.417977",
     "exception": false,
     "start_time": "2022-03-15T05:15:23.383202",
     "status": "completed"
    },
    "tags": []
   },
   "source": [
    "\n",
    "## Naive Bayes\n"
   ]
  },
  {
   "cell_type": "code",
   "execution_count": 16,
   "id": "db5d0439",
   "metadata": {
    "execution": {
     "iopub.execute_input": "2022-03-15T05:15:23.492468Z",
     "iopub.status.busy": "2022-03-15T05:15:23.491609Z",
     "iopub.status.idle": "2022-03-15T05:15:24.178701Z",
     "shell.execute_reply": "2022-03-15T05:15:24.179181Z",
     "shell.execute_reply.started": "2022-03-15T05:13:04.035504Z"
    },
    "papermill": {
     "duration": 0.726787,
     "end_time": "2022-03-15T05:15:24.179350",
     "exception": false,
     "start_time": "2022-03-15T05:15:23.452563",
     "status": "completed"
    },
    "tags": []
   },
   "outputs": [
    {
     "data": {
      "text/plain": [
       "GaussianNB()"
      ]
     },
     "execution_count": 16,
     "metadata": {},
     "output_type": "execute_result"
    }
   ],
   "source": [
    "from sklearn.naive_bayes import GaussianNB\n",
    "gnb = GaussianNB()\n",
    "gnb.fit(train_x_vector.toarray(), train_y)"
   ]
  },
  {
   "cell_type": "markdown",
   "id": "89594f17",
   "metadata": {
    "papermill": {
     "duration": 0.033336,
     "end_time": "2022-03-15T05:15:24.246622",
     "exception": false,
     "start_time": "2022-03-15T05:15:24.213286",
     "status": "completed"
    },
    "tags": []
   },
   "source": [
    "\n",
    "## Logistic Regression\n"
   ]
  },
  {
   "cell_type": "code",
   "execution_count": 17,
   "id": "ff6b8d24",
   "metadata": {
    "execution": {
     "iopub.execute_input": "2022-03-15T05:15:24.338204Z",
     "iopub.status.busy": "2022-03-15T05:15:24.337182Z",
     "iopub.status.idle": "2022-03-15T05:15:24.502013Z",
     "shell.execute_reply": "2022-03-15T05:15:24.503476Z",
     "shell.execute_reply.started": "2022-03-15T05:13:04.724869Z"
    },
    "papermill": {
     "duration": 0.22347,
     "end_time": "2022-03-15T05:15:24.503749",
     "exception": false,
     "start_time": "2022-03-15T05:15:24.280279",
     "status": "completed"
    },
    "tags": []
   },
   "outputs": [
    {
     "data": {
      "text/plain": [
       "LogisticRegression()"
      ]
     },
     "execution_count": 17,
     "metadata": {},
     "output_type": "execute_result"
    }
   ],
   "source": [
    "from sklearn.linear_model import LogisticRegression\n",
    "\n",
    "log_reg = LogisticRegression()\n",
    "log_reg.fit(train_x_vector,train_y)"
   ]
  },
  {
   "cell_type": "markdown",
   "id": "a53a31df",
   "metadata": {
    "papermill": {
     "duration": 0.034365,
     "end_time": "2022-03-15T05:15:24.646936",
     "exception": false,
     "start_time": "2022-03-15T05:15:24.612571",
     "status": "completed"
    },
    "tags": []
   },
   "source": [
    ">Note: Here notice that we are using review dataframe in vectorized form and sentiment dataframe in normal form it is so that model evaluates the vectorized values of review dataframe and gives out output in normal english not in a vectorized form so that it can be readable to us"
   ]
  },
  {
   "cell_type": "markdown",
   "id": "a6e7b622",
   "metadata": {
    "papermill": {
     "duration": 0.034066,
     "end_time": "2022-03-15T05:15:24.714931",
     "exception": false,
     "start_time": "2022-03-15T05:15:24.680865",
     "status": "completed"
    },
    "tags": []
   },
   "source": [
    "\n",
    "# 5. Model Evaluation\n"
   ]
  },
  {
   "cell_type": "markdown",
   "id": "8beff619",
   "metadata": {
    "papermill": {
     "duration": 0.033526,
     "end_time": "2022-03-15T05:15:24.782239",
     "exception": false,
     "start_time": "2022-03-15T05:15:24.748713",
     "status": "completed"
    },
    "tags": []
   },
   "source": [
    "## Mean Accuracy"
   ]
  },
  {
   "cell_type": "code",
   "execution_count": 18,
   "id": "cb10d1cb",
   "metadata": {
    "execution": {
     "iopub.execute_input": "2022-03-15T05:15:24.855516Z",
     "iopub.status.busy": "2022-03-15T05:15:24.854748Z",
     "iopub.status.idle": "2022-03-15T05:15:25.912120Z",
     "shell.execute_reply": "2022-03-15T05:15:25.911351Z",
     "shell.execute_reply.started": "2022-03-15T05:13:04.938140Z"
    },
    "papermill": {
     "duration": 1.096187,
     "end_time": "2022-03-15T05:15:25.912314",
     "exception": false,
     "start_time": "2022-03-15T05:15:24.816127",
     "status": "completed"
    },
    "tags": []
   },
   "outputs": [
    {
     "name": "stdout",
     "output_type": "stream",
     "text": [
      "0.8409090909090909\n",
      "0.6590909090909091\n",
      "0.6348484848484849\n",
      "0.8303030303030303\n"
     ]
    }
   ],
   "source": [
    "print(svc.score(test_x_vector, test_y))\n",
    "print(dec_tree.score(test_x_vector, test_y))\n",
    "print(gnb.score(test_x_vector.toarray(), test_y))\n",
    "print(log_reg.score(test_x_vector, test_y))"
   ]
  },
  {
   "cell_type": "markdown",
   "id": "d10d530d",
   "metadata": {
    "papermill": {
     "duration": 0.035591,
     "end_time": "2022-03-15T05:15:25.983542",
     "exception": false,
     "start_time": "2022-03-15T05:15:25.947951",
     "status": "completed"
    },
    "tags": []
   },
   "source": [
    "SVM and Logistic Regression perform better than the other two classifiers, with SVM having a slight advantage (84% of accuracy).Thus,we’ll focus only on SVM."
   ]
  },
  {
   "cell_type": "markdown",
   "id": "da729628",
   "metadata": {
    "papermill": {
     "duration": 0.035618,
     "end_time": "2022-03-15T05:15:26.054248",
     "exception": false,
     "start_time": "2022-03-15T05:15:26.018630",
     "status": "completed"
    },
    "tags": []
   },
   "source": [
    "## F1 Score\n",
    "\n",
    "F1 Score is the weighted average of Precision and Recall. Accuracy is used when the True Positives and True negatives are more important while F1-score is used when the False Negatives and False Positives are crucial. Also, F1 takes into account how the data is distributed, so it’s useful when you have data with imbalance classes."
   ]
  },
  {
   "cell_type": "code",
   "execution_count": 19,
   "id": "afe43eba",
   "metadata": {
    "execution": {
     "iopub.execute_input": "2022-03-15T05:15:26.129271Z",
     "iopub.status.busy": "2022-03-15T05:15:26.128320Z",
     "iopub.status.idle": "2022-03-15T05:15:26.874207Z",
     "shell.execute_reply": "2022-03-15T05:15:26.873630Z",
     "shell.execute_reply.started": "2022-03-15T05:13:06.074990Z"
    },
    "papermill": {
     "duration": 0.784617,
     "end_time": "2022-03-15T05:15:26.874397",
     "exception": false,
     "start_time": "2022-03-15T05:15:26.089780",
     "status": "completed"
    },
    "tags": []
   },
   "outputs": [
    {
     "data": {
      "text/plain": [
       "array([0.84671533, 0.83464567])"
      ]
     },
     "execution_count": 19,
     "metadata": {},
     "output_type": "execute_result"
    }
   ],
   "source": [
    "from sklearn.metrics import f1_score\n",
    "\n",
    "f1_score(test_y,svc.predict(test_x_vector),\n",
    "          labels = ['positive','negative'],average=None)"
   ]
  },
  {
   "cell_type": "markdown",
   "id": "7a09de86",
   "metadata": {
    "papermill": {
     "duration": 0.042176,
     "end_time": "2022-03-15T05:15:26.962361",
     "exception": false,
     "start_time": "2022-03-15T05:15:26.920185",
     "status": "completed"
    },
    "tags": []
   },
   "source": [
    "## Classification report"
   ]
  },
  {
   "cell_type": "code",
   "execution_count": 20,
   "id": "7b033bc1",
   "metadata": {
    "execution": {
     "iopub.execute_input": "2022-03-15T05:15:27.054646Z",
     "iopub.status.busy": "2022-03-15T05:15:27.053695Z",
     "iopub.status.idle": "2022-03-15T05:15:27.809093Z",
     "shell.execute_reply": "2022-03-15T05:15:27.808608Z",
     "shell.execute_reply.started": "2022-03-15T05:13:06.821605Z"
    },
    "papermill": {
     "duration": 0.801379,
     "end_time": "2022-03-15T05:15:27.809238",
     "exception": false,
     "start_time": "2022-03-15T05:15:27.007859",
     "status": "completed"
    },
    "tags": []
   },
   "outputs": [
    {
     "name": "stdout",
     "output_type": "stream",
     "text": [
      "              precision    recall  f1-score   support\n",
      "\n",
      "    positive       0.83      0.87      0.85       335\n",
      "    negative       0.85      0.82      0.83       325\n",
      "\n",
      "    accuracy                           0.84       660\n",
      "   macro avg       0.84      0.84      0.84       660\n",
      "weighted avg       0.84      0.84      0.84       660\n",
      "\n"
     ]
    }
   ],
   "source": [
    "from sklearn.metrics import classification_report\n",
    "\n",
    "print(classification_report(test_y,\n",
    "                            svc.predict(test_x_vector),\n",
    "                            labels = ['positive','negative']))"
   ]
  },
  {
   "cell_type": "markdown",
   "id": "6d0c4cd9",
   "metadata": {
    "papermill": {
     "duration": 0.034895,
     "end_time": "2022-03-15T05:15:27.881865",
     "exception": false,
     "start_time": "2022-03-15T05:15:27.846970",
     "status": "completed"
    },
    "tags": []
   },
   "source": [
    "## Confusion Matrix\n",
    "\n",
    "A confusion matrix is a table that allows visualization of the performance of an algorithm. This table typically has two rows and two columns that report the number of false positives, false negatives, true positives, and true negatives"
   ]
  },
  {
   "cell_type": "code",
   "execution_count": 21,
   "id": "bb205b4d",
   "metadata": {
    "execution": {
     "iopub.execute_input": "2022-03-15T05:15:27.957507Z",
     "iopub.status.busy": "2022-03-15T05:15:27.956643Z",
     "iopub.status.idle": "2022-03-15T05:15:28.696549Z",
     "shell.execute_reply": "2022-03-15T05:15:28.696947Z",
     "shell.execute_reply.started": "2022-03-15T05:13:07.590631Z"
    },
    "papermill": {
     "duration": 0.77995,
     "end_time": "2022-03-15T05:15:28.697136",
     "exception": false,
     "start_time": "2022-03-15T05:15:27.917186",
     "status": "completed"
    },
    "tags": []
   },
   "outputs": [
    {
     "data": {
      "text/plain": [
       "array([[290,  45],\n",
       "       [ 60, 265]])"
      ]
     },
     "execution_count": 21,
     "metadata": {},
     "output_type": "execute_result"
    }
   ],
   "source": [
    "from sklearn.metrics import confusion_matrix\n",
    "\n",
    "conf_mat = confusion_matrix(test_y,\n",
    "                           svc.predict(test_x_vector),\n",
    "                           labels = ['positive', 'negative'])\n",
    "conf_mat"
   ]
  },
  {
   "cell_type": "markdown",
   "id": "23dc2714",
   "metadata": {
    "papermill": {
     "duration": 0.035267,
     "end_time": "2022-03-15T05:15:28.768202",
     "exception": false,
     "start_time": "2022-03-15T05:15:28.732935",
     "status": "completed"
    },
    "tags": []
   },
   "source": [
    "\n",
    "# 6. Tuning the Model\n"
   ]
  },
  {
   "cell_type": "markdown",
   "id": "63a79cfb",
   "metadata": {
    "papermill": {
     "duration": 0.036149,
     "end_time": "2022-03-15T05:15:28.840853",
     "exception": false,
     "start_time": "2022-03-15T05:15:28.804704",
     "status": "completed"
    },
    "tags": []
   },
   "source": [
    "## GridSearchCV\n",
    "\n",
    "This is technique consists of an exhaustive search on specified parameters in order to obtain the optimum values of hyperparameters."
   ]
  },
  {
   "cell_type": "code",
   "execution_count": 22,
   "id": "8be5a4ef",
   "metadata": {
    "execution": {
     "iopub.execute_input": "2022-03-15T05:15:28.924665Z",
     "iopub.status.busy": "2022-03-15T05:15:28.923619Z",
     "iopub.status.idle": "2022-03-15T05:16:40.760675Z",
     "shell.execute_reply": "2022-03-15T05:16:40.761160Z",
     "shell.execute_reply.started": "2022-03-15T05:13:08.338252Z"
    },
    "papermill": {
     "duration": 71.883067,
     "end_time": "2022-03-15T05:16:40.761347",
     "exception": false,
     "start_time": "2022-03-15T05:15:28.878280",
     "status": "completed"
    },
    "tags": []
   },
   "outputs": [
    {
     "data": {
      "text/plain": [
       "GridSearchCV(cv=5, estimator=SVC(),\n",
       "             param_grid={'C': [1, 4, 8, 16, 32], 'kernel': ['linear', 'rbf']})"
      ]
     },
     "execution_count": 22,
     "metadata": {},
     "output_type": "execute_result"
    }
   ],
   "source": [
    "from sklearn.model_selection import GridSearchCV\n",
    "#set the parameters\n",
    "params = {'C': [1,4,8,16,32], 'kernel' : ['linear','rbf']}\n",
    "svc = SVC()\n",
    "svc_grid = GridSearchCV(svc,params, cv = 5)\n",
    "svc_grid.fit(train_x_vector, train_y)"
   ]
  },
  {
   "cell_type": "code",
   "execution_count": 23,
   "id": "6999e1ff",
   "metadata": {
    "execution": {
     "iopub.execute_input": "2022-03-15T05:16:40.839467Z",
     "iopub.status.busy": "2022-03-15T05:16:40.838677Z",
     "iopub.status.idle": "2022-03-15T05:16:40.841434Z",
     "shell.execute_reply": "2022-03-15T05:16:40.841847Z",
     "shell.execute_reply.started": "2022-03-15T05:14:20.231381Z"
    },
    "papermill": {
     "duration": 0.04473,
     "end_time": "2022-03-15T05:16:40.842043",
     "exception": false,
     "start_time": "2022-03-15T05:16:40.797313",
     "status": "completed"
    },
    "tags": []
   },
   "outputs": [
    {
     "name": "stdout",
     "output_type": "stream",
     "text": [
      "{'C': 1, 'kernel': 'linear'}\n",
      "SVC(C=1, kernel='linear')\n"
     ]
    }
   ],
   "source": [
    "print(svc_grid.best_params_)\n",
    "print(svc_grid.best_estimator_)"
   ]
  },
  {
   "cell_type": "markdown",
   "id": "967feb98",
   "metadata": {
    "papermill": {
     "duration": 0.037315,
     "end_time": "2022-03-15T05:16:40.916401",
     "exception": false,
     "start_time": "2022-03-15T05:16:40.879086",
     "status": "completed"
    },
    "tags": []
   },
   "source": [
    "So Above obtained paramters and kernel are the best for our model to obtain desired results as accurate as possible"
   ]
  }
 ],
 "metadata": {
  "kernelspec": {
   "display_name": "Python 3",
   "language": "python",
   "name": "python3"
  },
  "language_info": {
   "codemirror_mode": {
    "name": "ipython",
    "version": 3
   },
   "file_extension": ".py",
   "mimetype": "text/x-python",
   "name": "python",
   "nbconvert_exporter": "python",
   "pygments_lexer": "ipython3",
   "version": "3.7.12"
  },
  "papermill": {
   "default_parameters": {},
   "duration": 95.3358,
   "end_time": "2022-03-15T05:16:41.764937",
   "environment_variables": {},
   "exception": null,
   "input_path": "__notebook__.ipynb",
   "output_path": "__notebook__.ipynb",
   "parameters": {},
   "start_time": "2022-03-15T05:15:06.429137",
   "version": "2.3.3"
  }
 },
 "nbformat": 4,
 "nbformat_minor": 5
}
